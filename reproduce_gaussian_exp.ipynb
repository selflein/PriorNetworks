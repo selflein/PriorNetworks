{
 "cells": [
  {
   "cell_type": "code",
   "execution_count": null,
   "metadata": {
    "pycharm": {
     "name": "#%%\n"
    }
   },
   "outputs": [],
   "source": [
    "%load_ext autoreload\n",
    "%autoreload 2"
   ]
  },
  {
   "cell_type": "code",
   "execution_count": null,
   "metadata": {},
   "outputs": [],
   "source": [
    "import torch\n",
    "import matplotlib.pyplot as plt\n",
    "\n",
    "from prior_networks.priornet.dpn import PriorNet, dirichlet_prior_network_uncertainty\n",
    "from prior_networks.priornet.run.synth_model import SynthModel\n",
    "from prior_networks.plot_util import visualise_uncertainty, plot_contourf\n",
    "from prior_networks.util_pytorch import get_grid_eval_points, categorical_entropy_torch\n",
    "from prior_networks.datasets.toy.classification.mog import MixtureOfGaussiansDataset"
   ]
  },
  {
   "cell_type": "code",
   "execution_count": null,
   "metadata": {
    "pycharm": {
     "name": "#%%\n"
    }
   },
   "outputs": [],
   "source": [
    "train_dataset = MixtureOfGaussiansDataset(size=1000, noise=1, scale=4)\n",
    "ood_dataset = MixtureOfGaussiansDataset(size=1000, noise=1, scale=4, OOD=True)\n",
    "\n",
    "fig, ax = plt.subplots(figsize=(10, 10))\n",
    "ax.set_aspect('equal')\n",
    "train_dataset.plot(ax=ax)\n",
    "ood_dataset.plot(ax=ax)"
   ]
  },
  {
   "cell_type": "code",
   "execution_count": null,
   "metadata": {
    "pycharm": {
     "name": "#%%\n"
    }
   },
   "outputs": [],
   "source": [
    "std = 4\n",
    "chkpt = torch.load(f\"./checkpoints/dpn_synth_std{std}/checkpoint.tar\", map_location=torch.device(\"cpu\"))\n",
    "model = SynthModel()\n",
    "model.load_state_dict(chkpt[\"model_state_dict\"])\n",
    "model.eval()\n",
    "torch.set_grad_enabled(False)"
   ]
  },
  {
   "cell_type": "code",
   "execution_count": null,
   "metadata": {},
   "outputs": [],
   "source": [
    "extent = 20\n",
    "res = 200\n",
    "\n",
    "points = get_grid_eval_points((-extent, extent), (-extent, extent), res)\n",
    "# This are the alphas for the Dirichlet dist\n",
    "model_out = model(points)"
   ]
  },
  {
   "cell_type": "code",
   "execution_count": null,
   "metadata": {},
   "outputs": [],
   "source": [
    "metrics = dirichlet_prior_network_uncertainty(model_out)"
   ]
  },
  {
   "cell_type": "code",
   "execution_count": null,
   "metadata": {},
   "outputs": [],
   "source": [
    "plot_contourf(points, metrics[\"expected_entropy\"], extent, res)\n",
    "plot_contourf(points, metrics[\"differential_entropy\"], extent, res)\n"
   ]
  },
  {
   "cell_type": "code",
   "execution_count": null,
   "metadata": {
    "pycharm": {
     "name": "#%%\n"
    }
   },
   "outputs": [],
   "source": [
    "plot_contourf(points, metrics[\"expected_entropy\"], extent, res, show=False, name=f\"expected_entropy_std{std}\")\n",
    "plot_contourf(points, metrics[\"differential_entropy\"], extent, res, show=False, name=f\"differential_entropy_std{std}\")"
   ]
  },
  {
   "cell_type": "code",
   "execution_count": null,
   "outputs": [],
   "source": [
    "%debug"
   ],
   "metadata": {
    "collapsed": false,
    "pycharm": {
     "name": "#%%\n"
    }
   }
  }
 ],
 "metadata": {
  "kernelspec": {
   "display_name": "Python 3",
   "language": "python",
   "name": "python3"
  },
  "language_info": {
   "codemirror_mode": {
    "name": "ipython",
    "version": 3
   },
   "file_extension": ".py",
   "mimetype": "text/x-python",
   "name": "python",
   "nbconvert_exporter": "python",
   "pygments_lexer": "ipython3",
   "version": "3.8.5"
  }
 },
 "nbformat": 4,
 "nbformat_minor": 1
}